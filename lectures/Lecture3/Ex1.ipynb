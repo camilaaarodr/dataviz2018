{
 "cells": [
  {
   "cell_type": "markdown",
   "metadata": {},
   "source": [
    "# Especialização em Ciência de Dados - Turma 2018.1 - Facens\n",
    "## Aula 3 | Exercício 1\n",
    "\n",
    "* **Data de entrega:** 20/out/2018\n",
    "* **Professor:**  Matheus Mota\n",
    "* **Aluno:**  \n",
    "* **RA:** "
   ]
  },
  {
   "cell_type": "markdown",
   "metadata": {},
   "source": [
    "https://www.kaggle.com/dataviz2018/aula3-ex1"
   ]
  }
 ],
 "metadata": {
  "kernelspec": {
   "display_name": "Python 3",
   "language": "python",
   "name": "python3"
  },
  "language_info": {
   "codemirror_mode": {
    "name": "ipython",
    "version": 3
   },
   "file_extension": ".py",
   "mimetype": "text/x-python",
   "name": "python",
   "nbconvert_exporter": "python",
   "pygments_lexer": "ipython3",
   "version": "3.6.5"
  }
 },
 "nbformat": 4,
 "nbformat_minor": 2
}
