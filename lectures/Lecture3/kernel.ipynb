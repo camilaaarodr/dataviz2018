{
 "cells": [
  {
   "cell_type": "markdown",
   "metadata": {
    "_uuid": "df39ae7ca8450cb2ced8f78104ce562074891ecf"
   },
   "source": [
    "# Especialização em Ciência de Dados - Turma 2018.1 - Facens\n",
    "## Aula1 | Exercício 1 (valendo nota)\n",
    "\n",
    "* **Data de entrega:** 06/out/2018 07:59\n",
    "* **Professor:**  Matheus Mota\n",
    "* **Aluno:**  José Diniz Junior\n",
    "* **RA:** 183134"
   ]
  },
  {
   "cell_type": "markdown",
   "metadata": {
    "_uuid": "1d5a911ebf40fb7c2ad909ff461289ef98a7ab60"
   },
   "source": [
    "## Questão 1\n",
    "**Enunciado:**  Este notebook está associado ao *Kaggle Dataset* chamado \"Aula1 | Exercício1\". Este *Kaggle Dataset* possui dois arquivos em formato CSV (anv.csv e BR_eleitorado_2016_municipio ). Escolha um dos datasets disponíveis e já conhecidos, a seu critério. Uma vez definido o csv, escolha no mínimo 7 e no máximo 12 variáveis (colunas) que você avalia como sendo relevantes. Para cada uma das suas variáveis escolhidas, forneça:\n",
    "\n",
    "\n",
    "### Questão 1 - Item A - Classificação das variáveis\n",
    "\n",
    "Classifique todas as variáveis escolhidas, e construa um dataframe com sua resposta.\n",
    "Exemplo:"
   ]
  },
  {
   "cell_type": "code",
   "execution_count": 1,
   "metadata": {
    "_uuid": "1d5545ffa5ab35da8eee6398ea8213a289f365e0"
   },
   "outputs": [
    {
     "data": {
      "application/vnd.jupyter.widget-view+json": {
       "model_id": "2933c600529c4e75a2e20bad781c8da8",
       "version_major": 2,
       "version_minor": 0
      }
     },
     "metadata": {},
     "output_type": "display_data"
    }
   ],
   "source": [
    "import pandas as pd\n",
    "resposta = [[\"idade\", \"Quantitativa Discreta\"],[\"sexo\",\"Qualitativa Nominal\"]] #variáveis relacionadas a tempo são contínuas, mas podem ser discretas pois não há perdas -- (discretização)\n",
    "resposta = pd.DataFrame(resposta, columns=[\"Variavel\", \"Classificação\"])\n",
    "resposta"
   ]
  },
  {
   "cell_type": "markdown",
   "metadata": {
    "_uuid": "1989b39f076b334cd33a322271606a951c2f81ad"
   },
   "source": [
    "### Questão 1 - Item B - Tabela de frequência\n",
    "\n",
    "Construa uma tabela de frequência para cada uma das **variáveis qualitativas** que você escolheu (caso não tenha escolhido nenhuma, deixe esta questão em branco). Uma dica: a função *value_counts()* do Pandas pode ser muito útil. =)\n"
   ]
  },
  {
   "cell_type": "markdown",
   "metadata": {
    "_uuid": "8e37baddfa9bd56448ae49518a79016217ae7806"
   },
   "source": [
    "### Questão 1 - Item C - Representação Gráfica\n",
    "Para cada uma das variáveis, produza um ou mais gráficos, usando matplotlib, que descreva seu comportamento / caracteristica. Lembre-se que estes gráficos precisam ser compatíveis com a classificação da variável. "
   ]
  },
  {
   "cell_type": "markdown",
   "metadata": {
    "_uuid": "b00d8ea458788bb5e3fe07c5ded0bc4d152f8caf"
   },
   "source": [
    "# Dicas\n",
    "\n",
    "- Exemplo de acesso aos CSVs disponíveis no dataset\n",
    "> df = pd.read_csv('../input/anv.csv', delimiter=',')"
   ]
  },
  {
   "cell_type": "code",
   "execution_count": null,
   "metadata": {
    "_uuid": "76952834660fcf5bc7337f04213b4fe785698828"
   },
   "outputs": [],
   "source": [
    "df = pd.read_csv('../input/anv.csv', delimiter=',')\n",
    "df.head(1)"
   ]
  },
  {
   "cell_type": "code",
   "execution_count": null,
   "metadata": {
    "_uuid": "cf9c98cb24915a7bff0f30d0cab446523050ad6e"
   },
   "outputs": [],
   "source": [
    "import pandas as pd\n",
    "import matplotlib.pyplot as plt\n",
    "import warnings\n",
    "import matplotlib.cbook\n",
    "warnings.filterwarnings(\"ignore\",category=matplotlib.cbook.mplDeprecation)\n",
    "%matplotlib inline"
   ]
  },
  {
   "cell_type": "markdown",
   "metadata": {
    "_uuid": "0ab2bbc6ddf8cd030a27ffd455fdd057a22e63fa"
   },
   "source": [
    "# Leitura do arquivo e criação do Dataset com as variáveis"
   ]
  },
  {
   "cell_type": "code",
   "execution_count": null,
   "metadata": {
    "_uuid": "3230f9a8a8906bc3dd2b8495f89fd521501e1086"
   },
   "outputs": [],
   "source": [
    "anv = pd.read_csv('../input/anv.csv', delimiter=',')\n",
    "var = anv[['aeronave_operador_categoria','aeronave_tipo_veiculo','aeronave_fabricante','aeronave_modelo','aeronave_ano_fabricacao','aeronave_pais_fabricante','aeronave_fase_operacao','aeronave_nivel_dano','total_fatalidades']]\n",
    "var.head()"
   ]
  },
  {
   "cell_type": "markdown",
   "metadata": {
    "_uuid": "963c4058d6a8158607f8e7f59f86e823936861b1"
   },
   "source": [
    "# Criação da tabela de classificação das variáveis"
   ]
  },
  {
   "cell_type": "code",
   "execution_count": null,
   "metadata": {
    "_uuid": "2d08c50121d1f541aca7337ff7beb52126a590b2"
   },
   "outputs": [],
   "source": [
    "cls_anv = [['aeronave_operador_categoria','Qualitativa Nominal'],['aeronave_tipo_veiculo','Qualitativa Nominal'],['aeronave_fabricante','Qualitativa Nominal'],['aeronave_modelo','Qualitativa Nominal'],['aeronave_ano_fabricacao','Quantitativa Discreta'],['aeronave_pais_fabricante','Qualitativa Nominal'],['aeronave_fase_operacao','Qualitativa Nominal'],['aeronave_nivel_dano','Qualitativa Nominal'],['total_fatalidades','Quantitativa Discreta']]\n",
    "classificar = pd.DataFrame(cls_anv,columns=['Variável','Classificação'])\n",
    "classificar"
   ]
  },
  {
   "cell_type": "markdown",
   "metadata": {
    "_uuid": "c007d82d3f4410182e9e78596211e4b282413bf7"
   },
   "source": [
    "# Criação de variáveis com as colunas escolhidas"
   ]
  },
  {
   "cell_type": "code",
   "execution_count": null,
   "metadata": {
    "_uuid": "e7fbc43cc75e9a96450ee44e0b12212abfc5bdd6"
   },
   "outputs": [],
   "source": [
    "categoria = var['aeronave_operador_categoria'].value_counts()\n",
    "tipo = var['aeronave_tipo_veiculo'].value_counts()\n",
    "pais = var['aeronave_pais_fabricante'].value_counts()\n",
    "modelo = var['aeronave_modelo'].value_counts()\n",
    "fabricante = var['aeronave_fabricante'].value_counts()\n",
    "fase = var['aeronave_fase_operacao'].value_counts()\n",
    "dano = var['aeronave_nivel_dano'].value_counts()\n",
    "tipo"
   ]
  },
  {
   "cell_type": "markdown",
   "metadata": {
    "_uuid": "03550be0ead45c87c77b99b0d095a0e9f1c30db1"
   },
   "source": [
    "# Gráfico de porcentagem de acidentes por categoria"
   ]
  },
  {
   "cell_type": "code",
   "execution_count": null,
   "metadata": {
    "_uuid": "6097bef5c36e7fa9d93c3afed8d9bd174091877a"
   },
   "outputs": [],
   "source": [
    "ax = categoria.plot(kind='bar',rot=90, figsize=(10,7),color='coral',fontsize=13,label='Categoria')\n",
    "ax.set_title('Porcentagem de acidentes por categoria\\n', fontsize=18, color='black')\n",
    "ax.set_ylabel('Número de Acidentes', fontsize=18)\n",
    "ax.set_yticks([0,400,800,1200,1600,2000,2400])\n",
    "ax.set_ylim((0,2500))\n",
    "totals = []\n",
    "for i in ax.patches:\n",
    "    totals.append(i.get_height())\n",
    "total = sum(totals)\n",
    "for i in ax.patches:\n",
    "    ax.text(i.get_x(), i.get_height()+25, \\\n",
    "          str(round((i.get_height()/total)*100, 2))+'%', fontsize=15,\n",
    "             color='dimgrey')\n",
    "plt.style.use('ggplot')\n",
    "plt.legend()\n",
    "plt.show()"
   ]
  },
  {
   "cell_type": "markdown",
   "metadata": {
    "_uuid": "405beec58acec900621f0729515f9f26838c3ca1"
   },
   "source": [
    "# Gráfico de porcentagem de acidentes por tipo de aeronave"
   ]
  },
  {
   "cell_type": "code",
   "execution_count": null,
   "metadata": {
    "_uuid": "069dda5c80fa636a2403a3b11ea36c820549dc24"
   },
   "outputs": [],
   "source": [
    "princ = tipo[[1,2,3]]\n",
    "outros = tipo[[4,5,6,7,8,9]]\n",
    "ax = tipo.plot(kind='barh',rot=0, figsize=(10,7),color='dodgerblue',fontsize=13,label='Tipos')\n",
    "ax.set_title('Porcentagem de acidentes por tipo de aeronave\\n', fontsize=18, color='black')\n",
    "ax.set_xlabel('Número de Acidentes', fontsize=18)\n",
    "ax.set_xticks([0,500,1000,1500,2000,2500,3000,3500,4000,4500])\n",
    "ax.set_xlim((0,5000))\n",
    "totals = []\n",
    "for i in ax.patches:\n",
    "    totals.append(i.get_width())\n",
    "total = sum(totals)\n",
    "for i in ax.patches:\n",
    "    ax.text(i.get_width()+15, i.get_y()+.15,\n",
    "          str(round((i.get_width()/total)*100, 2))+'%', fontsize=15,\n",
    "             color='dimgrey')\n",
    "plt.style.use('ggplot')\n",
    "plt.legend()\n",
    "plt.show()"
   ]
  },
  {
   "cell_type": "markdown",
   "metadata": {
    "_uuid": "371a5a302faf4306ea8b134c3395c5f8918fec1d"
   },
   "source": [
    "# Gráfico de quantidade de acidentes por tipo de aeronave"
   ]
  },
  {
   "cell_type": "code",
   "execution_count": null,
   "metadata": {
    "_uuid": "d66ad9d66f701fdf069ce7dcc6f8bd8773214c4e"
   },
   "outputs": [],
   "source": [
    "ax = tipo.plot(kind='barh',rot=0, figsize=(10,7),color='dodgerblue',fontsize=13,label='Tipos')\n",
    "#delete labelbottom\n",
    "plt.tick_params(axis='x',which='both',bottom=False,top='False',labelbottom='False')\n",
    "ax.set_title('Quantidade de acidentes por tipo de aeronave\\n', fontsize=20, color='black')\n",
    "ax.set_xlabel('Número de Acidentes', fontsize=18)\n",
    "ax.set_xlim((0,4700))\n",
    "totals = []\n",
    "for i in ax.patches:\n",
    "    totals.append(i.get_width())\n",
    "total = sum(totals)\n",
    "for i in ax.patches:\n",
    "    ax.text(i.get_width()+15, i.get_y()+.15,i.get_width(),fontsize=15,color='black')\n",
    "plt.style.use('ggplot')\n",
    "plt.legend()\n",
    "plt.show()\n",
    "#b"
   ]
  },
  {
   "cell_type": "markdown",
   "metadata": {
    "_uuid": "0f1e5a45dcadccc9d95c43fa1dff265fe381088a"
   },
   "source": [
    "# Gráfico de porcentagem de danos dos acidentes"
   ]
  },
  {
   "cell_type": "code",
   "execution_count": null,
   "metadata": {
    "_uuid": "0e501032abfb3d7259c96147869f9f39bf3d7e20"
   },
   "outputs": [],
   "source": [
    "danos = pd.DataFrame(dano).reset_index()\n",
    "fat = danos['aeronave_nivel_dano']\n",
    "lab = danos['index']\n",
    "color = [\"#2ca02c\", \"#ff7f0e\", \"#1f77b4\", \"#d62728\", \"#8c564b\"]\n",
    "explode = (0.1, 0, 0, 0, 0) \n",
    "plt.pie(fat,labels=lab,explode=explode,colors=color,autopct='%1.1f%%',shadow=True,startangle=140)\n",
    "plt.title('Porcentagem de danos dos acidentes\\n',fontsize=25,color='black')\n",
    "#move legend to right\n",
    "leg = plt.legend(loc='upper right')\n",
    "bb = leg.get_bbox_to_anchor().inverse_transformed(ax.transAxes)\n",
    "xoffset = 0.4\n",
    "bb.x0 += xoffset\n",
    "bb.x1 += xoffset\n",
    "leg.set_bbox_to_anchor(bb, transform = ax.transAxes)\n",
    "plt.show()"
   ]
  },
  {
   "cell_type": "markdown",
   "metadata": {
    "_uuid": "2227b3d389b855ea1070b40b32b512afc5db8961"
   },
   "source": [
    "# Gráfico de quantidade de acidentes por país"
   ]
  },
  {
   "cell_type": "code",
   "execution_count": null,
   "metadata": {
    "_uuid": "12f58e5d850a68ddb3e9664c951288d034fcaa5e"
   },
   "outputs": [],
   "source": [
    "ax = pais.plot(kind='bar',rot=90, figsize=(10,7),color='g',fontsize=13,label='País')\n",
    "ax.set_title('Quantidade de acidentes por país\\n', fontsize=22, color='black')\n",
    "ax.set_ylabel('Número de Acidentes', fontsize=20)\n",
    "ax.set_yticks([0,400,800,1200,1600,2000,2400])\n",
    "ax.set_ylim((0,2500))\n",
    "totals = []\n",
    "for i in ax.patches:\n",
    "    totals.append(i.get_height())\n",
    "total = sum(totals)\n",
    "for i in ax.patches:\n",
    "    ax.text(i.get_x(), i.get_height()+25,i.get_height(), color='black')\n",
    "plt.style.use('ggplot')\n",
    "plt.legend()\n",
    "plt.show()"
   ]
  },
  {
   "cell_type": "markdown",
   "metadata": {
    "_uuid": "ccc45a6ea5a69cc386f96c943b995a44d04caf1b"
   },
   "source": [
    "# Gráfico dos 20 modelos de aeronave que mais sofreram acidente"
   ]
  },
  {
   "cell_type": "code",
   "execution_count": null,
   "metadata": {
    "_uuid": "12a891ead98a67076581dcff2cf90cc4150f4bbf"
   },
   "outputs": [],
   "source": [
    "modelos = modelo.head(20)\n",
    "ax = modelos.plot(kind='bar',rot=90, figsize=(10,7),color='brown',fontsize=13,label='Modelo')\n",
    "#a.set_alpha(0.8)\n",
    "ax.set_title('Os 20 modelos de aeronave que mais sofreram acidente\\n', fontsize=20, color='black')\n",
    "ax.set_ylabel('Número de Acidentes', fontsize=18, color='brown')\n",
    "ax.set_xlabel('Modelos', fontsize=18, color='brown')\n",
    "ax.set_yticks([0,50,100,150,200,250,300])\n",
    "ax.set_ylim((0,250))\n",
    "ax.set_facecolor('xkcd:grey')\n",
    "totals = []\n",
    "for i in ax.patches:\n",
    "    totals.append(i.get_height())\n",
    "total = sum(totals)\n",
    "for i in ax.patches:\n",
    "    ax.text(i.get_x(), i.get_height()+5,i.get_height(),color='black',fontsize=13)\n",
    "plt.style.use('classic')\n",
    "plt.legend()\n",
    "plt.show()"
   ]
  },
  {
   "cell_type": "markdown",
   "metadata": {
    "_uuid": "65a67e1ce4b1cd86b7c7a0b1ffc4dd9d925b1969"
   },
   "source": [
    "# Gráfico de dispersão Ano de Fabricação vs Número de Acidentes"
   ]
  },
  {
   "cell_type": "markdown",
   "metadata": {
    "_uuid": "8d1eead07b2cfcd60cf7371bfe2760ba11154e04"
   },
   "source": [
    "### Criação do Dataframe agupados por ano e apagado os anos com valor 0"
   ]
  },
  {
   "cell_type": "code",
   "execution_count": null,
   "metadata": {
    "_uuid": "c1e9808767540b97c6478777f697d386047d0731"
   },
   "outputs": [],
   "source": [
    "ano = pd.DataFrame({'qtd':var.groupby(['aeronave_ano_fabricacao']).size()}).reset_index().drop([0])"
   ]
  },
  {
   "cell_type": "code",
   "execution_count": null,
   "metadata": {
    "_kg_hide-input": false,
    "_kg_hide-output": false,
    "_uuid": "8be9e323d33a12fbe28c9c2e290366783cc83d5f"
   },
   "outputs": [],
   "source": [
    "def scatterplot(x_data, y_data, x_label, y_label, title):\n",
    "\n",
    "    # Create the plot object\n",
    "    _, ax = plt.subplots()\n",
    "\n",
    "    # Plot the data, set the size (s), color and transparency (alpha)\n",
    "    # of the points\n",
    "    ax.scatter(x_data, y_data, s = 30, color = '#539caf', alpha = 0.75)\n",
    "    \n",
    "    # Label the axes and provide a title\n",
    "    ax.set_title(title,fontsize=20)\n",
    "    ax.set_xlabel(x_label,fontsize=18)\n",
    "    ax.set_ylabel(y_label,fontsize=18)\n",
    "    ax.set_xticks([0,25,50,75,100,125,150,175,200,225])\n",
    "    ax.set_xlim((-5,250))\n",
    "plt.style.use('ggplot')\n",
    "\n",
    "# Call the function to create plot\n",
    "scatterplot(x_data = ano['qtd']\n",
    "            , y_data = ano['aeronave_ano_fabricacao']\n",
    "            , x_label = 'Número de Acidentes'\n",
    "            , y_label = 'Ano de Fabricação'\n",
    "            , title = 'Gráfico de Dispersão\\n' + 'Ano de Fabricação VS Número de Acidentes\\n')"
   ]
  },
  {
   "cell_type": "markdown",
   "metadata": {
    "_uuid": "d6d49f38a13374c5b40e62a6f68d5c34c583e14b"
   },
   "source": [
    "# Gráfico das 10 fases de operação com maior número de acidentes"
   ]
  },
  {
   "cell_type": "code",
   "execution_count": null,
   "metadata": {
    "_uuid": "27c5482c7418569d1925b85c4b7d3da1667418c3"
   },
   "outputs": [],
   "source": [
    "fases = fase.head(10)\n",
    "ax = fases.plot(kind='bar',rot=90, figsize=(10,7),color='b',fontsize=13,label='Fase de operação')\n",
    "#a.set_alpha(0.8)\n",
    "ax.set_title('As 10 fases de operação com maior número de acidentes\\n', fontsize=20, color='black')\n",
    "ax.set_ylabel('Número de Acidentes', fontsize=18, color='black')\n",
    "ax.set_yticks([0,200,400,600,800,1000])\n",
    "ax.set_ylim((0,1000))\n",
    "ax.set_facecolor('xkcd:grey')\n",
    "totals = []\n",
    "for i in ax.patches:\n",
    "    totals.append(i.get_height())\n",
    "total = sum(totals)\n",
    "for i in ax.patches:\n",
    "    ax.text(i.get_x(), i.get_height()+5,i.get_height(),color='black',fontsize=13)\n",
    "plt.style.use('ggplot')\n",
    "plt.legend()\n",
    "plt.show()"
   ]
  },
  {
   "cell_type": "markdown",
   "metadata": {
    "_uuid": "51eacfebe4dde94eedf07c760dd230fff6d42e79"
   },
   "source": [
    "# Gráfico dos 20 maiores fabricantes com acidentes fatais"
   ]
  },
  {
   "cell_type": "markdown",
   "metadata": {
    "_uuid": "743854d4dcca4c731d9b685347219a2b28e6ba27"
   },
   "source": [
    "### Seperação das 20 maiores empresas com acidentes fatais"
   ]
  },
  {
   "cell_type": "code",
   "execution_count": null,
   "metadata": {
    "_uuid": "8ca6c5cc08ced73944ead1b980ec58806782841c"
   },
   "outputs": [],
   "source": [
    "fabr_fatal = var[(var.total_fatalidades>0)].aeronave_fabricante.value_counts().nlargest(21).drop(['***'])"
   ]
  },
  {
   "cell_type": "code",
   "execution_count": null,
   "metadata": {
    "_uuid": "c3cf3d93d5589f1ad83e1f7d9edb6f35027be247"
   },
   "outputs": [],
   "source": [
    "ax = fabr_fatal.plot(kind='bar',rot=90, figsize=(15,10),color='g',fontsize=13,label='Fabricante')\n",
    "ax.set_title('20 maiores fabricantes com acidentes fatais\\n', fontsize=30, color='black')\n",
    "ax.set_ylabel('Quantidade de acidentes com fatalidades', fontsize=20)\n",
    "ax.set_yticks([0,10,20,30,40,50,60,70,80])\n",
    "ax.set_ylim((0,80))\n",
    "totals = []\n",
    "for i in ax.patches:\n",
    "    totals.append(i.get_height())\n",
    "total = sum(totals)\n",
    "for i in ax.patches:\n",
    "    ax.text(i.get_x()+0.1, i.get_height()+1,i.get_height(), color='black',fontsize=13)\n",
    "plt.style.use('ggplot')\n",
    "plt.legend()\n",
    "plt.show()"
   ]
  },
  {
   "cell_type": "markdown",
   "metadata": {
    "_uuid": "069c0411a2874da42107022b9d675ed2e6db3605"
   },
   "source": []
  },
  {
   "cell_type": "markdown",
   "metadata": {
    "_uuid": "2053ba941de497ba2c559cc14f575da3e8c3cf38"
   },
   "source": []
  }
 ],
 "metadata": {
  "kernelspec": {
   "display_name": "Python 3",
   "language": "python",
   "name": "python3"
  },
  "language_info": {
   "codemirror_mode": {
    "name": "ipython",
    "version": 3
   },
   "file_extension": ".py",
   "mimetype": "text/x-python",
   "name": "python",
   "nbconvert_exporter": "python",
   "pygments_lexer": "ipython3",
   "version": "3.6.5"
  }
 },
 "nbformat": 4,
 "nbformat_minor": 2
}
